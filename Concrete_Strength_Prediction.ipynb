{
  "nbformat": 4,
  "nbformat_minor": 0,
  "metadata": {
    "colab": {
      "provenance": []
    },
    "kernelspec": {
      "name": "python3",
      "display_name": "Python 3"
    },
    "language_info": {
      "name": "python"
    }
  },
  "cells": [
    {
      "cell_type": "code",
      "execution_count": null,
      "metadata": {
        "id": "i8fnCTl5yzfz"
      },
      "outputs": [],
      "source": []
    },
    {
      "cell_type": "code",
      "execution_count": null,
      "metadata": {
        "colab": {
          "base_uri": "https://localhost:8080/"
        },
        "id": "7w3Dp_kY-0Bl",
        "outputId": "04dde32e-9df5-41b2-e10a-3b5d77cd4320"
      },
      "outputs": [
        {
          "output_type": "stream",
          "name": "stdout",
          "text": [
            "571\n",
            "     Compressive strength of cement fce(MPa)  \\\n",
            "310                                     43.7   \n",
            "542                                      NaN   \n",
            "17                                      46.8   \n",
            "266                                     52.7   \n",
            "318                                     43.7   \n",
            "\n",
            "     Tensile strength of cement fct(MPa)  Curing age (day)  \\\n",
            "310                                  7.5                28   \n",
            "542                                  NaN                 7   \n",
            "17                                   8.0                56   \n",
            "266                                  9.0                 3   \n",
            "318                                  7.5                28   \n",
            "\n",
            "     Dmax of Crushed stone (mm)  Stone powder content in Sand (%)  \\\n",
            "310                        25.0                               NaN   \n",
            "542                         NaN                              11.2   \n",
            "17                         31.5                              13.0   \n",
            "266                        31.5                               6.6   \n",
            "318                        25.0                               NaN   \n",
            "\n",
            "     Fineness modulus of sand   W/B  Water to cement ratio mw/mc  \\\n",
            "310                      3.10  0.30                        0.300   \n",
            "542                      2.44  0.50                        0.830   \n",
            "17                       2.77  0.56                        0.560   \n",
            "266                      2.94  0.44                        0.440   \n",
            "318                      3.10  0.32                        0.457   \n",
            "\n",
            "     Water (kg/m3)  Sand ratio (%)  Slump (mm)  \n",
            "310          152.0            38.0       205.0  \n",
            "542           87.0            27.0        42.0  \n",
            "17           180.0            44.0        50.0  \n",
            "266          185.0            36.0        41.0  \n",
            "318          152.0            39.0       208.0  \n",
            "\n",
            "\n",
            "310    78.8\n",
            "542     9.6\n",
            "17     45.0\n",
            "266    23.7\n",
            "318    70.7\n",
            "Name: Compressive strength\\nfcu,t\\n(MPa), dtype: float64\n",
            "310    4.61\n",
            "542    0.71\n",
            "17     3.68\n",
            "266    1.93\n",
            "318    4.32\n",
            "Name: Splitting tensile strength fst,t(MPa), dtype: float64\n"
          ]
        }
      ],
      "source": [
        "# import necessary libraries\n",
        "import numpy as np\n",
        "import pandas as pd\n",
        "  \n",
        "# import the KNNimputer class\n",
        "from sklearn.impute import KNNImputer\n",
        "\n",
        "import pandas as pd\n",
        "from sklearn.model_selection import train_test_split\n",
        "\n",
        "dataset = pd.read_csv('/content/project_data.csv')\n",
        "\n",
        "y_compressive = dataset['Compressive strength\\nfcu,t\\n(MPa)']\n",
        "y_tensile = dataset['Splitting tensile strength fst,t(MPa)']\n",
        "dataset.drop(['Compressive strength\\nfcu,t\\n(MPa)', 'Splitting tensile strength fst,t(MPa)'], axis=1, inplace=True)\n",
        "\n",
        "# Break off validation set from training data\n",
        "X_train, X_valid, y_train_compressive, y_valid_compressive, y_train_tensile, y_valid_tensile = train_test_split(dataset, y_compressive, y_tensile, train_size=0.8, test_size=0.2, random_state=0)\n",
        "\n",
        "print(len(X_train))\n",
        "print(X_train.head())\n",
        "print()\n",
        "print()\n",
        "print(y_train_compressive.head())\n",
        "print(y_train_tensile.head())"
      ]
    },
    {
      "cell_type": "code",
      "source": [
        "print(X_valid)\n",
        "print()\n",
        "print(len(X_valid))"
      ],
      "metadata": {
        "colab": {
          "base_uri": "https://localhost:8080/"
        },
        "id": "XsScOBvjFlbM",
        "outputId": "12e5a458-3982-4021-a0d0-a6d6346581e3"
      },
      "execution_count": null,
      "outputs": [
        {
          "output_type": "stream",
          "name": "stdout",
          "text": [
            "     Compressive strength of cement fce(MPa)  \\\n",
            "339                                    55.20   \n",
            "142                                    47.70   \n",
            "243                                      NaN   \n",
            "236                                      NaN   \n",
            "712                                    48.07   \n",
            "..                                       ...   \n",
            "245                                      NaN   \n",
            "303                                    43.70   \n",
            "97                                     46.80   \n",
            "375                                    52.60   \n",
            "484                                      NaN   \n",
            "\n",
            "     Tensile strength of cement fct(MPa)  Curing age (day)  \\\n",
            "339                                  8.9                28   \n",
            "142                                  8.7                28   \n",
            "243                                  NaN                28   \n",
            "236                                  NaN                 7   \n",
            "712                                  NaN                28   \n",
            "..                                   ...               ...   \n",
            "245                                  NaN                28   \n",
            "303                                  7.5                60   \n",
            "97                                   8.0                 3   \n",
            "375                                  9.4                28   \n",
            "484                                  NaN                28   \n",
            "\n",
            "     Dmax of Crushed stone (mm)  Stone powder content in Sand (%)  \\\n",
            "339                        25.0                               0.8   \n",
            "142                        25.0                              13.0   \n",
            "243                        40.0                              12.0   \n",
            "236                        40.0                               6.0   \n",
            "712                        12.0                              19.2   \n",
            "..                          ...                               ...   \n",
            "245                        40.0                              18.0   \n",
            "303                        25.0                               6.3   \n",
            "97                         31.5                               9.0   \n",
            "375                        25.0                              10.0   \n",
            "484                         NaN                              10.0   \n",
            "\n",
            "     Fineness modulus of sand   W/B  Water to cement ratio mw/mc  \\\n",
            "339                      2.85  0.33                        0.470   \n",
            "142                      3.19  0.32                        0.320   \n",
            "243                       NaN  0.36                        0.480   \n",
            "236                       NaN  0.36                        0.480   \n",
            "712                       NaN  0.32                        0.450   \n",
            "..                        ...   ...                          ...   \n",
            "245                       NaN  0.36                        0.480   \n",
            "303                      3.10  0.30                        0.428   \n",
            "97                       3.27  0.40                        0.400   \n",
            "375                      3.10  0.55                        0.550   \n",
            "484                       NaN  0.40                        0.400   \n",
            "\n",
            "     Water (kg/m3)  Sand ratio (%)  Slump (mm)  \n",
            "339          160.0            36.0       190.0  \n",
            "142          170.0            30.0        20.0  \n",
            "243          130.0            34.0        60.0  \n",
            "236          126.0            35.0        50.0  \n",
            "712          180.0            54.0       140.0  \n",
            "..             ...             ...         ...  \n",
            "245          135.0            33.0        60.0  \n",
            "303          152.0            38.0       202.0  \n",
            "97           185.0            34.0        60.0  \n",
            "375          180.0            42.0       180.0  \n",
            "484          190.0            30.0        10.0  \n",
            "\n",
            "[143 rows x 11 columns]\n",
            "\n",
            "143\n"
          ]
        }
      ]
    },
    {
      "cell_type": "markdown",
      "metadata": {
        "id": "jFA3D-uzzJtu"
      },
      "source": [
        "# New Section"
      ]
    },
    {
      "cell_type": "code",
      "execution_count": null,
      "metadata": {
        "colab": {
          "base_uri": "https://localhost:8080/"
        },
        "id": "P_NJuRmizK_H",
        "outputId": "03a57adc-7ada-4838-9bb0-69aa9eac5d0e"
      },
      "outputs": [
        {
          "output_type": "stream",
          "name": "stdout",
          "text": [
            "Drive already mounted at /content/drive; to attempt to forcibly remount, call drive.mount(\"/content/drive\", force_remount=True).\n"
          ]
        }
      ],
      "source": [
        "from google.colab import drive\n",
        "drive.mount('/content/drive')"
      ]
    },
    {
      "cell_type": "code",
      "execution_count": null,
      "metadata": {
        "colab": {
          "base_uri": "https://localhost:8080/"
        },
        "id": "H9X06IbILvDj",
        "outputId": "8404008c-72fd-4271-f9c0-4955cfb31bb8"
      },
      "outputs": [
        {
          "output_type": "stream",
          "name": "stdout",
          "text": [
            "Data Before performing imputation\n",
            "      Compressive strength of cement fce(MPa)  \\\n",
            "310                                    43.70   \n",
            "542                                      NaN   \n",
            "17                                     46.80   \n",
            "266                                    52.70   \n",
            "318                                    43.70   \n",
            "..                                       ...   \n",
            "707                                    39.42   \n",
            "192                                      NaN   \n",
            "629                                    62.40   \n",
            "559                                      NaN   \n",
            "684                                    52.90   \n",
            "\n",
            "     Tensile strength of cement fct(MPa)  Curing age (day)  \\\n",
            "310                                  7.5                28   \n",
            "542                                  NaN                 7   \n",
            "17                                   8.0                56   \n",
            "266                                  9.0                 3   \n",
            "318                                  7.5                28   \n",
            "..                                   ...               ...   \n",
            "707                                  NaN                90   \n",
            "192                                  NaN                28   \n",
            "629                                  8.4                90   \n",
            "559                                  NaN                90   \n",
            "684                                  8.4                28   \n",
            "\n",
            "     Dmax of Crushed stone (mm)  Stone powder content in Sand (%)  \\\n",
            "310                        25.0                               NaN   \n",
            "542                         NaN                              11.2   \n",
            "17                         31.5                              13.0   \n",
            "266                        31.5                               6.6   \n",
            "318                        25.0                               NaN   \n",
            "..                          ...                               ...   \n",
            "707                        12.0                              19.2   \n",
            "192                        31.5                               5.8   \n",
            "629                        40.0                               6.1   \n",
            "559                        40.0                              13.0   \n",
            "684                        80.0                              15.0   \n",
            "\n",
            "     Fineness modulus of sand   W/B  Water to cement ratio mw/mc  \\\n",
            "310                      3.10  0.30                        0.300   \n",
            "542                      2.44  0.50                        0.830   \n",
            "17                       2.77  0.56                        0.560   \n",
            "266                      2.94  0.44                        0.440   \n",
            "318                      3.10  0.32                        0.457   \n",
            "..                        ...   ...                          ...   \n",
            "707                       NaN  0.36                        0.550   \n",
            "192                      3.10  0.46                        0.460   \n",
            "629                      2.92  0.50                        0.830   \n",
            "559                      2.68  0.50                        0.830   \n",
            "684                      2.80  0.50                        0.670   \n",
            "\n",
            "     Water (kg/m3)  Sand ratio (%)  Slump (mm)  \n",
            "310         152.00            38.0       205.0  \n",
            "542          87.00            27.0        42.0  \n",
            "17          180.00            44.0        50.0  \n",
            "266         185.00            36.0        41.0  \n",
            "318         152.00            39.0       208.0  \n",
            "..             ...             ...         ...  \n",
            "707         178.75            54.0       135.0  \n",
            "192         185.00            36.0        43.0  \n",
            "629         102.00             NaN        10.0  \n",
            "559          89.00            36.0        10.0  \n",
            "684         115.00            30.0        40.0  \n",
            "\n",
            "[571 rows x 11 columns]\n",
            "\n",
            "\n",
            "After performing imputation\n",
            " [[ 43.7    7.5   28.   ... 152.    38.   205.  ]\n",
            " [ 55.75   8.4    7.   ...  87.    27.    42.  ]\n",
            " [ 46.8    8.    56.   ... 180.    44.    50.  ]\n",
            " ...\n",
            " [ 62.4    8.4   90.   ... 102.    33.    10.  ]\n",
            " [ 62.4    8.4   90.   ...  89.    36.    10.  ]\n",
            " [ 52.9    8.4   28.   ... 115.    30.    40.  ]]\n"
          ]
        }
      ],
      "source": [
        "# creating a data frame from the list \n",
        "Before_imputation = pd.DataFrame(X_train)\n",
        "#print dataset before imputaion\n",
        "print(\"Data Before performing imputation\\n\",Before_imputation)\n",
        "  \n",
        "# create an object for KNNImputer\n",
        "imputer = KNNImputer(n_neighbors=10)\n",
        "After_imputation = imputer.fit_transform(Before_imputation)\n",
        "# print dataset after performing the operation\n",
        "print(\"\\n\\nAfter performing imputation\\n\",After_imputation)\n",
        "\n",
        "dataset_imputed = pd.DataFrame(After_imputation, columns=X_train.columns)"
      ]
    },
    {
      "cell_type": "code",
      "source": [
        "# creating a data frame from the list \n",
        "Bef_imputation = pd.DataFrame(X_valid)\n",
        "#print dataset before imputaion\n",
        "print(\"Test Data Before performing imputation\\n\",Bef_imputation)\n",
        "  \n",
        "# create an object for KNNImputer\n",
        "imputer = KNNImputer(n_neighbors=10)\n",
        "Aft_imputation = imputer.fit_transform(Bef_imputation)\n",
        "# print dataset after performing the operation\n",
        "print(\"\\n\\n Test After performing imputation\\n\",Aft_imputation)\n",
        "\n",
        "t_dataset_imputed = pd.DataFrame(Aft_imputation, columns=X_valid.columns)"
      ],
      "metadata": {
        "colab": {
          "base_uri": "https://localhost:8080/"
        },
        "id": "BejANdquE5D5",
        "outputId": "8d0aeaa6-df11-4b58-a634-8f6b5adace92"
      },
      "execution_count": null,
      "outputs": [
        {
          "output_type": "stream",
          "name": "stdout",
          "text": [
            "Test Data Before performing imputation\n",
            "      Compressive strength of cement fce(MPa)  \\\n",
            "339                                    55.20   \n",
            "142                                    47.70   \n",
            "243                                      NaN   \n",
            "236                                      NaN   \n",
            "712                                    48.07   \n",
            "..                                       ...   \n",
            "245                                      NaN   \n",
            "303                                    43.70   \n",
            "97                                     46.80   \n",
            "375                                    52.60   \n",
            "484                                      NaN   \n",
            "\n",
            "     Tensile strength of cement fct(MPa)  Curing age (day)  \\\n",
            "339                                  8.9                28   \n",
            "142                                  8.7                28   \n",
            "243                                  NaN                28   \n",
            "236                                  NaN                 7   \n",
            "712                                  NaN                28   \n",
            "..                                   ...               ...   \n",
            "245                                  NaN                28   \n",
            "303                                  7.5                60   \n",
            "97                                   8.0                 3   \n",
            "375                                  9.4                28   \n",
            "484                                  NaN                28   \n",
            "\n",
            "     Dmax of Crushed stone (mm)  Stone powder content in Sand (%)  \\\n",
            "339                        25.0                               0.8   \n",
            "142                        25.0                              13.0   \n",
            "243                        40.0                              12.0   \n",
            "236                        40.0                               6.0   \n",
            "712                        12.0                              19.2   \n",
            "..                          ...                               ...   \n",
            "245                        40.0                              18.0   \n",
            "303                        25.0                               6.3   \n",
            "97                         31.5                               9.0   \n",
            "375                        25.0                              10.0   \n",
            "484                         NaN                              10.0   \n",
            "\n",
            "     Fineness modulus of sand   W/B  Water to cement ratio mw/mc  \\\n",
            "339                      2.85  0.33                        0.470   \n",
            "142                      3.19  0.32                        0.320   \n",
            "243                       NaN  0.36                        0.480   \n",
            "236                       NaN  0.36                        0.480   \n",
            "712                       NaN  0.32                        0.450   \n",
            "..                        ...   ...                          ...   \n",
            "245                       NaN  0.36                        0.480   \n",
            "303                      3.10  0.30                        0.428   \n",
            "97                       3.27  0.40                        0.400   \n",
            "375                      3.10  0.55                        0.550   \n",
            "484                       NaN  0.40                        0.400   \n",
            "\n",
            "     Water (kg/m3)  Sand ratio (%)  Slump (mm)  \n",
            "339          160.0            36.0       190.0  \n",
            "142          170.0            30.0        20.0  \n",
            "243          130.0            34.0        60.0  \n",
            "236          126.0            35.0        50.0  \n",
            "712          180.0            54.0       140.0  \n",
            "..             ...             ...         ...  \n",
            "245          135.0            33.0        60.0  \n",
            "303          152.0            38.0       202.0  \n",
            "97           185.0            34.0        60.0  \n",
            "375          180.0            42.0       180.0  \n",
            "484          190.0            30.0        10.0  \n",
            "\n",
            "[143 rows x 11 columns]\n",
            "\n",
            "\n",
            " Test After performing imputation\n",
            " [[ 55.2     8.9    28.    ... 160.     36.    190.   ]\n",
            " [ 47.7     8.7    28.    ... 170.     30.     20.   ]\n",
            " [ 51.05    8.48   28.    ... 130.     34.     60.   ]\n",
            " ...\n",
            " [ 46.8     8.      3.    ... 185.     34.     60.   ]\n",
            " [ 52.6     9.4    28.    ... 180.     42.    180.   ]\n",
            " [ 48.817   8.551  28.    ... 190.     30.     10.   ]]\n"
          ]
        }
      ]
    },
    {
      "cell_type": "code",
      "execution_count": null,
      "metadata": {
        "colab": {
          "base_uri": "https://localhost:8080/"
        },
        "id": "vqr6v7pYL8fI",
        "outputId": "5280f47e-a37b-4110-8771-1c90499cc1ea"
      },
      "outputs": [
        {
          "output_type": "stream",
          "name": "stdout",
          "text": [
            "n_estimators: 50, Compressive strength MAE: 2.019536377566678, Splitting tensile strength fst,t(MPa) MAE: 0.19676850854100048, Overall MAE: 1.1081524430538392\n",
            "n_estimators: 100, Compressive strength MAE: 1.9101029500094329, Splitting tensile strength fst,t(MPa) MAE: 0.1937889255176891, Overall MAE: 1.051945937763561\n",
            "n_estimators: 150, Compressive strength MAE: 1.888027298933976, Splitting tensile strength fst,t(MPa) MAE: 0.19238461731197118, Overall MAE: 1.0402059581229735\n",
            "n_estimators: 200, Compressive strength MAE: 1.8755342107386022, Splitting tensile strength fst,t(MPa) MAE: 0.19156640257868734, Overall MAE: 1.0335503066586447\n",
            "Best model for Compressive strength: XGBRegressor(base_score=None, booster=None, callbacks=None,\n",
            "             colsample_bylevel=None, colsample_bynode=None,\n",
            "             colsample_bytree=None, early_stopping_rounds=None,\n",
            "             enable_categorical=False, eval_metric=None, feature_types=None,\n",
            "             gamma=None, gpu_id=None, grow_policy=None, importance_type=None,\n",
            "             interaction_constraints=None, learning_rate=None, max_bin=None,\n",
            "             max_cat_threshold=None, max_cat_to_onehot=None,\n",
            "             max_delta_step=None, max_depth=None, max_leaves=None,\n",
            "             min_child_weight=None, missing=nan, monotone_constraints=None,\n",
            "             n_estimators=200, n_jobs=None, num_parallel_tree=None,\n",
            "             predictor=None, random_state=0, ...)\n",
            "Best model for Splitting tensile strength fst,t(MPa): XGBRegressor(base_score=None, booster=None, callbacks=None,\n",
            "             colsample_bylevel=None, colsample_bynode=None,\n",
            "             colsample_bytree=None, early_stopping_rounds=None,\n",
            "             enable_categorical=False, eval_metric=None, feature_types=None,\n",
            "             gamma=None, gpu_id=None, grow_policy=None, importance_type=None,\n",
            "             interaction_constraints=None, learning_rate=None, max_bin=None,\n",
            "             max_cat_threshold=None, max_cat_to_onehot=None,\n",
            "             max_delta_step=None, max_depth=None, max_leaves=None,\n",
            "             min_child_weight=None, missing=nan, monotone_constraints=None,\n",
            "             n_estimators=200, n_jobs=None, num_parallel_tree=None,\n",
            "             predictor=None, random_state=0, ...)\n",
            "Least MAE: 1.0335503066586447\n"
          ]
        }
      ],
      "source": [
        "\n",
        "from xgboost import XGBRegressor\n",
        "from sklearn.metrics import mean_absolute_error\n",
        "\n",
        "# Define n_estimators values to be tested\n",
        "n_estimators_list = [50, 100, 150, 200]\n",
        "\n",
        "# Initialize variables to keep track of best model and MAE\n",
        "best_model = None\n",
        "best_mae = None\n",
        "\n",
        "# Loop through each value of n_estimators\n",
        "for n_estimators in n_estimators_list:\n",
        "    \n",
        "    # Initialize XGBoost model for Compressive strength with current n_estimators value\n",
        "    xg_comp_model = XGBRegressor(n_estimators=n_estimators, random_state=0)\n",
        "    \n",
        "    # Fit Compressive strength model to training data\n",
        "    xg_comp_model.fit(X_train, y_train_compressive)\n",
        "    \n",
        "    # Make Compressive strength predictions on validation data\n",
        "    comp_preds = xg_comp_model.predict(X_valid)\n",
        "    \n",
        "    # Calculate Compressive strength MAE for current model\n",
        "    comp_mae = mean_absolute_error(y_valid_compressive, comp_preds)\n",
        "    \n",
        "    # Initialize XGBoost model for Splitting tensile strength fst,t(MPa) with current n_estimators value\n",
        "    split_model = XGBRegressor(n_estimators=n_estimators, random_state=0)\n",
        "    \n",
        "    # Fit Splitting tensile strength fst,t(MPa) model to training data\n",
        "    split_model.fit(X_train, y_train_tensile)\n",
        "    \n",
        "    # Make Splitting tensile strength fst,t(MPa) predictions on validation data\n",
        "    split_preds = split_model.predict(X_valid)\n",
        "    \n",
        "    # Calculate Splitting tensile strength fst,t(MPa) MAE for current model\n",
        "    split_mae = mean_absolute_error(y_valid_tensile, split_preds)\n",
        "    \n",
        "    # Calculate overall MAE for current model as the mean of the two MAEs\n",
        "    overall_mae = (comp_mae + split_mae) / 2\n",
        "    \n",
        "    # Print results for current model\n",
        "    print(f\"n_estimators: {n_estimators}, Compressive strength MAE: {comp_mae}, Splitting tensile strength fst,t(MPa) MAE: {split_mae}, Overall MAE: {overall_mae}\")\n",
        "    \n",
        "    # Check if current model is better than previous best model\n",
        "    if best_mae is None or overall_mae < best_mae:\n",
        "        best_model = (xg_comp_model, split_model)\n",
        "        best_mae = overall_mae\n",
        "\n",
        "# Print best model and MAE\n",
        "print(f\"Best model for Compressive strength: {best_model[0]}\")\n",
        "print(f\"Best model for Splitting tensile strength fst,t(MPa): {best_model[1]}\")\n",
        "print(f\"Least MAE: {best_mae}\")\n",
        "\n"
      ]
    },
    {
      "cell_type": "code",
      "execution_count": null,
      "metadata": {
        "colab": {
          "base_uri": "https://localhost:8080/"
        },
        "id": "r-as-Bp-PXnC",
        "outputId": "e396fe9d-65fb-4ab8-9dd3-f938031d1e47"
      },
      "outputs": [
        {
          "output_type": "stream",
          "name": "stderr",
          "text": [
            "`early_stopping_rounds` in `fit` method is deprecated for better compatibility with scikit-learn, use `early_stopping_rounds` in constructor or`set_params` instead.\n"
          ]
        },
        {
          "output_type": "stream",
          "name": "stdout",
          "text": [
            "Compressive strength RMSE: 2.915200306598082\n"
          ]
        },
        {
          "output_type": "stream",
          "name": "stderr",
          "text": [
            "`early_stopping_rounds` in `fit` method is deprecated for better compatibility with scikit-learn, use `early_stopping_rounds` in constructor or`set_params` instead.\n"
          ]
        },
        {
          "output_type": "stream",
          "name": "stdout",
          "text": [
            "Splitting tensile strength RMSE: 0.28689429019596946\n"
          ]
        }
      ],
      "source": [
        "# Now, by previous cell data, we take the 'n_estimator' with least MAE to train our model. \n",
        "\n",
        "import xgboost as xgb\n",
        "from sklearn.metrics import mean_squared_error\n",
        "\n",
        "# Train the model for compressive strength\n",
        "model_comp_xg = xgb.XGBRegressor(n_estimators=200, learning_rate=0.05, random_state=0)\n",
        "model_comp_xg.fit(X_train, y_train_compressive, early_stopping_rounds=5, eval_set=[(X_valid, y_valid_compressive)], verbose=False)\n",
        "y_pred_comp_xg = model_comp_xg.predict(X_valid)\n",
        "rmse_compressive = mean_squared_error(y_valid_compressive, y_pred_comp_xg, squared=False)\n",
        "print(f\"Compressive strength RMSE: {rmse_compressive}\")\n",
        "\n",
        "# Train the model for splitting tensile strength\n",
        "model_tensile_xg = xgb.XGBRegressor(n_estimators=200, learning_rate=0.05, random_state=0)\n",
        "model_tensile_xg.fit(X_train, y_train_tensile, early_stopping_rounds=5, eval_set=[(X_valid, y_valid_tensile)], verbose=False)\n",
        "y_pred_tensile_xg = model_tensile_xg.predict(X_valid)\n",
        "rmse_tensile = mean_squared_error(y_valid_tensile, y_pred_tensile_xg, squared=False)\n",
        "print(f\"Splitting tensile strength RMSE: {rmse_tensile}\")\n",
        "\n",
        "# here we check the accuracy by finding RMSE between Y_predicted and Y_validation\n"
      ]
    },
    {
      "cell_type": "code",
      "execution_count": null,
      "metadata": {
        "id": "CO3WXL5ESloV"
      },
      "outputs": [],
      "source": [
        "# Save test predictions to file\n",
        "output = pd.DataFrame({'Compressive strength\\nfcu,t\\n(MPa)': y_pred_comp_xg,\n",
        "                       'Splitting tensile strength fst,t(MPa)': y_pred_tensile_xg})\n",
        "output.to_csv('cmp_output.csv', index=False)"
      ]
    },
    {
      "cell_type": "code",
      "execution_count": null,
      "metadata": {
        "colab": {
          "base_uri": "https://localhost:8080/",
          "height": 206
        },
        "id": "RZ8j5UhMWGmM",
        "outputId": "61fc0bac-33ef-4c01-a81e-4ae46f318b98"
      },
      "outputs": [
        {
          "output_type": "execute_result",
          "data": {
            "text/plain": [
              "           0\n",
              "0  68.479774\n",
              "1  69.437675\n",
              "2  41.830704\n",
              "3  25.631042\n",
              "4  63.937927"
            ],
            "text/html": [
              "\n",
              "  <div id=\"df-99a01d38-6772-45b8-96ee-e639dfcb8858\">\n",
              "    <div class=\"colab-df-container\">\n",
              "      <div>\n",
              "<style scoped>\n",
              "    .dataframe tbody tr th:only-of-type {\n",
              "        vertical-align: middle;\n",
              "    }\n",
              "\n",
              "    .dataframe tbody tr th {\n",
              "        vertical-align: top;\n",
              "    }\n",
              "\n",
              "    .dataframe thead th {\n",
              "        text-align: right;\n",
              "    }\n",
              "</style>\n",
              "<table border=\"1\" class=\"dataframe\">\n",
              "  <thead>\n",
              "    <tr style=\"text-align: right;\">\n",
              "      <th></th>\n",
              "      <th>0</th>\n",
              "    </tr>\n",
              "  </thead>\n",
              "  <tbody>\n",
              "    <tr>\n",
              "      <th>0</th>\n",
              "      <td>68.479774</td>\n",
              "    </tr>\n",
              "    <tr>\n",
              "      <th>1</th>\n",
              "      <td>69.437675</td>\n",
              "    </tr>\n",
              "    <tr>\n",
              "      <th>2</th>\n",
              "      <td>41.830704</td>\n",
              "    </tr>\n",
              "    <tr>\n",
              "      <th>3</th>\n",
              "      <td>25.631042</td>\n",
              "    </tr>\n",
              "    <tr>\n",
              "      <th>4</th>\n",
              "      <td>63.937927</td>\n",
              "    </tr>\n",
              "  </tbody>\n",
              "</table>\n",
              "</div>\n",
              "      <button class=\"colab-df-convert\" onclick=\"convertToInteractive('df-99a01d38-6772-45b8-96ee-e639dfcb8858')\"\n",
              "              title=\"Convert this dataframe to an interactive table.\"\n",
              "              style=\"display:none;\">\n",
              "        \n",
              "  <svg xmlns=\"http://www.w3.org/2000/svg\" height=\"24px\"viewBox=\"0 0 24 24\"\n",
              "       width=\"24px\">\n",
              "    <path d=\"M0 0h24v24H0V0z\" fill=\"none\"/>\n",
              "    <path d=\"M18.56 5.44l.94 2.06.94-2.06 2.06-.94-2.06-.94-.94-2.06-.94 2.06-2.06.94zm-11 1L8.5 8.5l.94-2.06 2.06-.94-2.06-.94L8.5 2.5l-.94 2.06-2.06.94zm10 10l.94 2.06.94-2.06 2.06-.94-2.06-.94-.94-2.06-.94 2.06-2.06.94z\"/><path d=\"M17.41 7.96l-1.37-1.37c-.4-.4-.92-.59-1.43-.59-.52 0-1.04.2-1.43.59L10.3 9.45l-7.72 7.72c-.78.78-.78 2.05 0 2.83L4 21.41c.39.39.9.59 1.41.59.51 0 1.02-.2 1.41-.59l7.78-7.78 2.81-2.81c.8-.78.8-2.07 0-2.86zM5.41 20L4 18.59l7.72-7.72 1.47 1.35L5.41 20z\"/>\n",
              "  </svg>\n",
              "      </button>\n",
              "      \n",
              "  <style>\n",
              "    .colab-df-container {\n",
              "      display:flex;\n",
              "      flex-wrap:wrap;\n",
              "      gap: 12px;\n",
              "    }\n",
              "\n",
              "    .colab-df-convert {\n",
              "      background-color: #E8F0FE;\n",
              "      border: none;\n",
              "      border-radius: 50%;\n",
              "      cursor: pointer;\n",
              "      display: none;\n",
              "      fill: #1967D2;\n",
              "      height: 32px;\n",
              "      padding: 0 0 0 0;\n",
              "      width: 32px;\n",
              "    }\n",
              "\n",
              "    .colab-df-convert:hover {\n",
              "      background-color: #E2EBFA;\n",
              "      box-shadow: 0px 1px 2px rgba(60, 64, 67, 0.3), 0px 1px 3px 1px rgba(60, 64, 67, 0.15);\n",
              "      fill: #174EA6;\n",
              "    }\n",
              "\n",
              "    [theme=dark] .colab-df-convert {\n",
              "      background-color: #3B4455;\n",
              "      fill: #D2E3FC;\n",
              "    }\n",
              "\n",
              "    [theme=dark] .colab-df-convert:hover {\n",
              "      background-color: #434B5C;\n",
              "      box-shadow: 0px 1px 3px 1px rgba(0, 0, 0, 0.15);\n",
              "      filter: drop-shadow(0px 1px 2px rgba(0, 0, 0, 0.3));\n",
              "      fill: #FFFFFF;\n",
              "    }\n",
              "  </style>\n",
              "\n",
              "      <script>\n",
              "        const buttonEl =\n",
              "          document.querySelector('#df-99a01d38-6772-45b8-96ee-e639dfcb8858 button.colab-df-convert');\n",
              "        buttonEl.style.display =\n",
              "          google.colab.kernel.accessAllowed ? 'block' : 'none';\n",
              "\n",
              "        async function convertToInteractive(key) {\n",
              "          const element = document.querySelector('#df-99a01d38-6772-45b8-96ee-e639dfcb8858');\n",
              "          const dataTable =\n",
              "            await google.colab.kernel.invokeFunction('convertToInteractive',\n",
              "                                                     [key], {});\n",
              "          if (!dataTable) return;\n",
              "\n",
              "          const docLinkHtml = 'Like what you see? Visit the ' +\n",
              "            '<a target=\"_blank\" href=https://colab.research.google.com/notebooks/data_table.ipynb>data table notebook</a>'\n",
              "            + ' to learn more about interactive tables.';\n",
              "          element.innerHTML = '';\n",
              "          dataTable['output_type'] = 'display_data';\n",
              "          await google.colab.output.renderOutput(dataTable, element);\n",
              "          const docLink = document.createElement('div');\n",
              "          docLink.innerHTML = docLinkHtml;\n",
              "          element.appendChild(docLink);\n",
              "        }\n",
              "      </script>\n",
              "    </div>\n",
              "  </div>\n",
              "  "
            ]
          },
          "metadata": {},
          "execution_count": 126
        }
      ],
      "source": [
        "y_pred_compressive_dataframe = pd.DataFrame(y_pred_comp_xg)\n",
        "y_pred_compressive_dataframe.head()"
      ]
    },
    {
      "cell_type": "code",
      "execution_count": null,
      "metadata": {
        "colab": {
          "base_uri": "https://localhost:8080/",
          "height": 206
        },
        "id": "Otpdx84N9y0x",
        "outputId": "5df6fe90-2815-44b1-f92c-09cbea1c6d41"
      },
      "outputs": [
        {
          "output_type": "execute_result",
          "data": {
            "text/plain": [
              "          0\n",
              "0  4.449134\n",
              "1  4.182842\n",
              "2  3.011182\n",
              "3  2.306951\n",
              "4  4.436483"
            ],
            "text/html": [
              "\n",
              "  <div id=\"df-d0966de0-783b-4d2a-b357-50fd9e9e54d2\">\n",
              "    <div class=\"colab-df-container\">\n",
              "      <div>\n",
              "<style scoped>\n",
              "    .dataframe tbody tr th:only-of-type {\n",
              "        vertical-align: middle;\n",
              "    }\n",
              "\n",
              "    .dataframe tbody tr th {\n",
              "        vertical-align: top;\n",
              "    }\n",
              "\n",
              "    .dataframe thead th {\n",
              "        text-align: right;\n",
              "    }\n",
              "</style>\n",
              "<table border=\"1\" class=\"dataframe\">\n",
              "  <thead>\n",
              "    <tr style=\"text-align: right;\">\n",
              "      <th></th>\n",
              "      <th>0</th>\n",
              "    </tr>\n",
              "  </thead>\n",
              "  <tbody>\n",
              "    <tr>\n",
              "      <th>0</th>\n",
              "      <td>4.449134</td>\n",
              "    </tr>\n",
              "    <tr>\n",
              "      <th>1</th>\n",
              "      <td>4.182842</td>\n",
              "    </tr>\n",
              "    <tr>\n",
              "      <th>2</th>\n",
              "      <td>3.011182</td>\n",
              "    </tr>\n",
              "    <tr>\n",
              "      <th>3</th>\n",
              "      <td>2.306951</td>\n",
              "    </tr>\n",
              "    <tr>\n",
              "      <th>4</th>\n",
              "      <td>4.436483</td>\n",
              "    </tr>\n",
              "  </tbody>\n",
              "</table>\n",
              "</div>\n",
              "      <button class=\"colab-df-convert\" onclick=\"convertToInteractive('df-d0966de0-783b-4d2a-b357-50fd9e9e54d2')\"\n",
              "              title=\"Convert this dataframe to an interactive table.\"\n",
              "              style=\"display:none;\">\n",
              "        \n",
              "  <svg xmlns=\"http://www.w3.org/2000/svg\" height=\"24px\"viewBox=\"0 0 24 24\"\n",
              "       width=\"24px\">\n",
              "    <path d=\"M0 0h24v24H0V0z\" fill=\"none\"/>\n",
              "    <path d=\"M18.56 5.44l.94 2.06.94-2.06 2.06-.94-2.06-.94-.94-2.06-.94 2.06-2.06.94zm-11 1L8.5 8.5l.94-2.06 2.06-.94-2.06-.94L8.5 2.5l-.94 2.06-2.06.94zm10 10l.94 2.06.94-2.06 2.06-.94-2.06-.94-.94-2.06-.94 2.06-2.06.94z\"/><path d=\"M17.41 7.96l-1.37-1.37c-.4-.4-.92-.59-1.43-.59-.52 0-1.04.2-1.43.59L10.3 9.45l-7.72 7.72c-.78.78-.78 2.05 0 2.83L4 21.41c.39.39.9.59 1.41.59.51 0 1.02-.2 1.41-.59l7.78-7.78 2.81-2.81c.8-.78.8-2.07 0-2.86zM5.41 20L4 18.59l7.72-7.72 1.47 1.35L5.41 20z\"/>\n",
              "  </svg>\n",
              "      </button>\n",
              "      \n",
              "  <style>\n",
              "    .colab-df-container {\n",
              "      display:flex;\n",
              "      flex-wrap:wrap;\n",
              "      gap: 12px;\n",
              "    }\n",
              "\n",
              "    .colab-df-convert {\n",
              "      background-color: #E8F0FE;\n",
              "      border: none;\n",
              "      border-radius: 50%;\n",
              "      cursor: pointer;\n",
              "      display: none;\n",
              "      fill: #1967D2;\n",
              "      height: 32px;\n",
              "      padding: 0 0 0 0;\n",
              "      width: 32px;\n",
              "    }\n",
              "\n",
              "    .colab-df-convert:hover {\n",
              "      background-color: #E2EBFA;\n",
              "      box-shadow: 0px 1px 2px rgba(60, 64, 67, 0.3), 0px 1px 3px 1px rgba(60, 64, 67, 0.15);\n",
              "      fill: #174EA6;\n",
              "    }\n",
              "\n",
              "    [theme=dark] .colab-df-convert {\n",
              "      background-color: #3B4455;\n",
              "      fill: #D2E3FC;\n",
              "    }\n",
              "\n",
              "    [theme=dark] .colab-df-convert:hover {\n",
              "      background-color: #434B5C;\n",
              "      box-shadow: 0px 1px 3px 1px rgba(0, 0, 0, 0.15);\n",
              "      filter: drop-shadow(0px 1px 2px rgba(0, 0, 0, 0.3));\n",
              "      fill: #FFFFFF;\n",
              "    }\n",
              "  </style>\n",
              "\n",
              "      <script>\n",
              "        const buttonEl =\n",
              "          document.querySelector('#df-d0966de0-783b-4d2a-b357-50fd9e9e54d2 button.colab-df-convert');\n",
              "        buttonEl.style.display =\n",
              "          google.colab.kernel.accessAllowed ? 'block' : 'none';\n",
              "\n",
              "        async function convertToInteractive(key) {\n",
              "          const element = document.querySelector('#df-d0966de0-783b-4d2a-b357-50fd9e9e54d2');\n",
              "          const dataTable =\n",
              "            await google.colab.kernel.invokeFunction('convertToInteractive',\n",
              "                                                     [key], {});\n",
              "          if (!dataTable) return;\n",
              "\n",
              "          const docLinkHtml = 'Like what you see? Visit the ' +\n",
              "            '<a target=\"_blank\" href=https://colab.research.google.com/notebooks/data_table.ipynb>data table notebook</a>'\n",
              "            + ' to learn more about interactive tables.';\n",
              "          element.innerHTML = '';\n",
              "          dataTable['output_type'] = 'display_data';\n",
              "          await google.colab.output.renderOutput(dataTable, element);\n",
              "          const docLink = document.createElement('div');\n",
              "          docLink.innerHTML = docLinkHtml;\n",
              "          element.appendChild(docLink);\n",
              "        }\n",
              "      </script>\n",
              "    </div>\n",
              "  </div>\n",
              "  "
            ]
          },
          "metadata": {},
          "execution_count": 127
        }
      ],
      "source": [
        "y_pred_tensile_dataframe = pd.DataFrame(y_pred_tensile_xg)\n",
        "y_pred_tensile_dataframe.head()"
      ]
    },
    {
      "cell_type": "code",
      "execution_count": null,
      "metadata": {
        "colab": {
          "base_uri": "https://localhost:8080/"
        },
        "id": "jcoW0HIm-XK5",
        "outputId": "08095726-1ace-4249-99aa-e04001112b87"
      },
      "outputs": [
        {
          "output_type": "stream",
          "name": "stdout",
          "text": [
            "Looking in indexes: https://pypi.org/simple, https://us-python.pkg.dev/colab-wheels/public/simple/\n",
            "Requirement already satisfied: shap in /usr/local/lib/python3.10/dist-packages (0.41.0)\n",
            "Requirement already satisfied: numpy in /usr/local/lib/python3.10/dist-packages (from shap) (1.22.4)\n",
            "Requirement already satisfied: scipy in /usr/local/lib/python3.10/dist-packages (from shap) (1.10.1)\n",
            "Requirement already satisfied: scikit-learn in /usr/local/lib/python3.10/dist-packages (from shap) (1.2.2)\n",
            "Requirement already satisfied: pandas in /usr/local/lib/python3.10/dist-packages (from shap) (1.5.3)\n",
            "Requirement already satisfied: tqdm>4.25.0 in /usr/local/lib/python3.10/dist-packages (from shap) (4.65.0)\n",
            "Requirement already satisfied: packaging>20.9 in /usr/local/lib/python3.10/dist-packages (from shap) (23.1)\n",
            "Requirement already satisfied: slicer==0.0.7 in /usr/local/lib/python3.10/dist-packages (from shap) (0.0.7)\n",
            "Requirement already satisfied: numba in /usr/local/lib/python3.10/dist-packages (from shap) (0.56.4)\n",
            "Requirement already satisfied: cloudpickle in /usr/local/lib/python3.10/dist-packages (from shap) (2.2.1)\n",
            "Requirement already satisfied: llvmlite<0.40,>=0.39.0dev0 in /usr/local/lib/python3.10/dist-packages (from numba->shap) (0.39.1)\n",
            "Requirement already satisfied: setuptools in /usr/local/lib/python3.10/dist-packages (from numba->shap) (67.7.2)\n",
            "Requirement already satisfied: python-dateutil>=2.8.1 in /usr/local/lib/python3.10/dist-packages (from pandas->shap) (2.8.2)\n",
            "Requirement already satisfied: pytz>=2020.1 in /usr/local/lib/python3.10/dist-packages (from pandas->shap) (2022.7.1)\n",
            "Requirement already satisfied: joblib>=1.1.1 in /usr/local/lib/python3.10/dist-packages (from scikit-learn->shap) (1.2.0)\n",
            "Requirement already satisfied: threadpoolctl>=2.0.0 in /usr/local/lib/python3.10/dist-packages (from scikit-learn->shap) (3.1.0)\n",
            "Requirement already satisfied: six>=1.5 in /usr/local/lib/python3.10/dist-packages (from python-dateutil>=2.8.1->pandas->shap) (1.16.0)\n"
          ]
        }
      ],
      "source": [
        "!pip install shap"
      ]
    },
    {
      "cell_type": "code",
      "execution_count": null,
      "metadata": {
        "colab": {
          "base_uri": "https://localhost:8080/",
          "height": 567
        },
        "id": "TzPdLlCX-hZ8",
        "outputId": "7eb24d68-1713-4cf8-a692-0fde85b61409"
      },
      "outputs": [
        {
          "output_type": "stream",
          "name": "stderr",
          "text": [
            "ntree_limit is deprecated, use `iteration_range` or model slicing instead.\n"
          ]
        },
        {
          "output_type": "display_data",
          "data": {
            "text/plain": [
              "<Figure size 800x650 with 3 Axes>"
            ],
            "image/png": "[encoded data removed]"
          },
          "metadata": {}
        }
      ],
      "source": [
        "import shap\n",
        "\n",
        "# Create an explainer object\n",
        "explainer = shap.Explainer(model_comp_xg)\n",
        "\n",
        "# Calculate SHAP values for the first 100 instances in the test set\n",
        "shap_values = explainer(X_valid[:100])\n",
        "\n",
        "# Visualize the SHAP values for a single instance\n",
        "shap.plots.waterfall(shap_values[0])\n"
      ]
    },
    {
      "cell_type": "code",
      "execution_count": null,
      "metadata": {
        "colab": {
          "base_uri": "https://localhost:8080/",
          "height": 571
        },
        "id": "BKlBjxBWBkIp",
        "outputId": "b446a066-0a1f-4a3b-a454-72040cbc6c68"
      },
      "outputs": [
        {
          "output_type": "display_data",
          "data": {
            "text/plain": [
              "<Figure size 800x650 with 3 Axes>"
            ],
            "image/png": "[encoded data removed]"
          },
          "metadata": {}
        }
      ],
      "source": [
        "# Create an explainer object\n",
        "explainer = shap.Explainer(model_tensile_xg )\n",
        "\n",
        "# Calculate SHAP values for the first 100 instances in the test set\n",
        "shap_values = explainer(X_valid[:100])\n",
        "\n",
        "# Visualize the SHAP values for a single instance\n",
        "shap.plots.waterfall(shap_values[0])"
      ]
    },
    {
      "cell_type": "code",
      "execution_count": null,
      "metadata": {
        "colab": {
          "base_uri": "https://localhost:8080/"
        },
        "id": "C4DHg-HiX6_T",
        "outputId": "3b612d83-261f-405f-9df4-3011f05ee020"
      },
      "outputs": [
        {
          "output_type": "stream",
          "name": "stdout",
          "text": [
            "Validation Accuracy_comp_xg: 0.9827900836067549\n"
          ]
        }
      ],
      "source": [
        "from sklearn.metrics import r2_score\n",
        "\n",
        "# Calculate the accuracy score for the Validation Set\n",
        "val_accuracy_comp_xg = r2_score(y_valid_compressive, y_pred_comp_xg)\n",
        "\n",
        "print(\"Validation Accuracy_comp_xg:\", val_accuracy_comp_xg)\n",
        "\n"
      ]
    },
    {
      "cell_type": "code",
      "execution_count": null,
      "metadata": {
        "colab": {
          "base_uri": "https://localhost:8080/"
        },
        "id": "OSNlwvJ0fSai",
        "outputId": "c053099b-6289-4ab6-87bb-1fc480f2e78e"
      },
      "outputs": [
        {
          "output_type": "stream",
          "name": "stdout",
          "text": [
            "Validation Accuracy_tens_xg: 0.9533514075103205\n"
          ]
        }
      ],
      "source": [
        "from sklearn.metrics import r2_score\n",
        "\n",
        "# Calculate the accuracy score for the Validation Set\n",
        "val_accuracy_tensile_xg= r2_score(y_valid_tensile, y_pred_tensile_xg)\n",
        "\n",
        "print(\"Validation Accuracy_tens_xg:\", val_accuracy_tensile_xg)\n",
        "\n"
      ]
    },
    {
      "cell_type": "markdown",
      "source": [],
      "metadata": {
        "id": "s2NKcUAnkXNs"
      }
    },
    {
      "cell_type": "code",
      "source": [
        "from sklearn.ensemble import RandomForestRegressor\n",
        "from sklearn.model_selection import train_test_split\n",
        "from sklearn.metrics import mean_squared_error\n",
        "from sklearn.model_selection import RandomizedSearchCV\n",
        "import numpy as np"
      ],
      "metadata": {
        "id": "aQxFyrYm4z7y"
      },
      "execution_count": null,
      "outputs": []
    },
    {
      "cell_type": "code",
      "source": [
        "dataset_imputed\n"
      ],
      "metadata": {
        "colab": {
          "base_uri": "https://localhost:8080/",
          "height": 520
        },
        "id": "kNunCV-b8-BL",
        "outputId": "336b3dcd-b8f7-4362-8d9a-c9941662571e"
      },
      "execution_count": null,
      "outputs": [
        {
          "output_type": "execute_result",
          "data": {
            "text/plain": [
              "     Compressive strength of cement fce(MPa)  \\\n",
              "0                                      43.70   \n",
              "1                                      55.75   \n",
              "2                                      46.80   \n",
              "3                                      52.70   \n",
              "4                                      43.70   \n",
              "..                                       ...   \n",
              "566                                    39.42   \n",
              "567                                    48.42   \n",
              "568                                    62.40   \n",
              "569                                    62.40   \n",
              "570                                    52.90   \n",
              "\n",
              "     Tensile strength of cement fct(MPa)  Curing age (day)  \\\n",
              "0                                  7.500              28.0   \n",
              "1                                  8.400               7.0   \n",
              "2                                  8.000              56.0   \n",
              "3                                  9.000               3.0   \n",
              "4                                  7.500              28.0   \n",
              "..                                   ...               ...   \n",
              "566                                8.182              90.0   \n",
              "567                                8.380              28.0   \n",
              "568                                8.400              90.0   \n",
              "569                                8.400              90.0   \n",
              "570                                8.400              28.0   \n",
              "\n",
              "     Dmax of Crushed stone (mm)  Stone powder content in Sand (%)  \\\n",
              "0                          25.0                             6.925   \n",
              "1                         112.0                            11.200   \n",
              "2                          31.5                            13.000   \n",
              "3                          31.5                             6.600   \n",
              "4                          25.0                             7.145   \n",
              "..                          ...                               ...   \n",
              "566                        12.0                            19.200   \n",
              "567                        31.5                             5.800   \n",
              "568                        40.0                             6.100   \n",
              "569                        40.0                            13.000   \n",
              "570                        80.0                            15.000   \n",
              "\n",
              "     Fineness modulus of sand   W/B  Water to cement ratio mw/mc  \\\n",
              "0                       3.100  0.30                        0.300   \n",
              "1                       2.440  0.50                        0.830   \n",
              "2                       2.770  0.56                        0.560   \n",
              "3                       2.940  0.44                        0.440   \n",
              "4                       3.100  0.32                        0.457   \n",
              "..                        ...   ...                          ...   \n",
              "566                     3.177  0.36                        0.550   \n",
              "567                     3.100  0.46                        0.460   \n",
              "568                     2.920  0.50                        0.830   \n",
              "569                     2.680  0.50                        0.830   \n",
              "570                     2.800  0.50                        0.670   \n",
              "\n",
              "     Water (kg/m3)  Sand ratio (%)  Slump (mm)  \n",
              "0           152.00            38.0       205.0  \n",
              "1            87.00            27.0        42.0  \n",
              "2           180.00            44.0        50.0  \n",
              "3           185.00            36.0        41.0  \n",
              "4           152.00            39.0       208.0  \n",
              "..             ...             ...         ...  \n",
              "566         178.75            54.0       135.0  \n",
              "567         185.00            36.0        43.0  \n",
              "568         102.00            33.0        10.0  \n",
              "569          89.00            36.0        10.0  \n",
              "570         115.00            30.0        40.0  \n",
              "\n",
              "[571 rows x 11 columns]"
            ],
            "text/html": [
              "\n",
              "  <div id=\"df-3f67e3c7-a258-4da4-8d76-8558629f58ab\">\n",
              "    <div class=\"colab-df-container\">\n",
              "      <div>\n",
              "<style scoped>\n",
              "    .dataframe tbody tr th:only-of-type {\n",
              "        vertical-align: middle;\n",
              "    }\n",
              "\n",
              "    .dataframe tbody tr th {\n",
              "        vertical-align: top;\n",
              "    }\n",
              "\n",
              "    .dataframe thead th {\n",
              "        text-align: right;\n",
              "    }\n",
              "</style>\n",
              "<table border=\"1\" class=\"dataframe\">\n",
              "  <thead>\n",
              "    <tr style=\"text-align: right;\">\n",
              "      <th></th>\n",
              "      <th>Compressive strength of cement fce(MPa)</th>\n",
              "      <th>Tensile strength of cement fct(MPa)</th>\n",
              "      <th>Curing age (day)</th>\n",
              "      <th>Dmax of Crushed stone (mm)</th>\n",
              "      <th>Stone powder content in Sand (%)</th>\n",
              "      <th>Fineness modulus of sand</th>\n",
              "      <th>W/B</th>\n",
              "      <th>Water to cement ratio mw/mc</th>\n",
              "      <th>Water (kg/m3)</th>\n",
              "      <th>Sand ratio (%)</th>\n",
              "      <th>Slump (mm)</th>\n",
              "    </tr>\n",
              "  </thead>\n",
              "  <tbody>\n",
              "    <tr>\n",
              "      <th>0</th>\n",
              "      <td>43.70</td>\n",
              "      <td>7.500</td>\n",
              "      <td>28.0</td>\n",
              "      <td>25.0</td>\n",
              "      <td>6.925</td>\n",
              "      <td>3.100</td>\n",
              "      <td>0.30</td>\n",
              "      <td>0.300</td>\n",
              "      <td>152.00</td>\n",
              "      <td>38.0</td>\n",
              "      <td>205.0</td>\n",
              "    </tr>\n",
              "    <tr>\n",
              "      <th>1</th>\n",
              "      <td>55.75</td>\n",
              "      <td>8.400</td>\n",
              "      <td>7.0</td>\n",
              "      <td>112.0</td>\n",
              "      <td>11.200</td>\n",
              "      <td>2.440</td>\n",
              "      <td>0.50</td>\n",
              "      <td>0.830</td>\n",
              "      <td>87.00</td>\n",
              "      <td>27.0</td>\n",
              "      <td>42.0</td>\n",
              "    </tr>\n",
              "    <tr>\n",
              "      <th>2</th>\n",
              "      <td>46.80</td>\n",
              "      <td>8.000</td>\n",
              "      <td>56.0</td>\n",
              "      <td>31.5</td>\n",
              "      <td>13.000</td>\n",
              "      <td>2.770</td>\n",
              "      <td>0.56</td>\n",
              "      <td>0.560</td>\n",
              "      <td>180.00</td>\n",
              "      <td>44.0</td>\n",
              "      <td>50.0</td>\n",
              "    </tr>\n",
              "    <tr>\n",
              "      <th>3</th>\n",
              "      <td>52.70</td>\n",
              "      <td>9.000</td>\n",
              "      <td>3.0</td>\n",
              "      <td>31.5</td>\n",
              "      <td>6.600</td>\n",
              "      <td>2.940</td>\n",
              "      <td>0.44</td>\n",
              "      <td>0.440</td>\n",
              "      <td>185.00</td>\n",
              "      <td>36.0</td>\n",
              "      <td>41.0</td>\n",
              "    </tr>\n",
              "    <tr>\n",
              "      <th>4</th>\n",
              "      <td>43.70</td>\n",
              "      <td>7.500</td>\n",
              "      <td>28.0</td>\n",
              "      <td>25.0</td>\n",
              "      <td>7.145</td>\n",
              "      <td>3.100</td>\n",
              "      <td>0.32</td>\n",
              "      <td>0.457</td>\n",
              "      <td>152.00</td>\n",
              "      <td>39.0</td>\n",
              "      <td>208.0</td>\n",
              "    </tr>\n",
              "    <tr>\n",
              "      <th>...</th>\n",
              "      <td>...</td>\n",
              "      <td>...</td>\n",
              "      <td>...</td>\n",
              "      <td>...</td>\n",
              "      <td>...</td>\n",
              "      <td>...</td>\n",
              "      <td>...</td>\n",
              "      <td>...</td>\n",
              "      <td>...</td>\n",
              "      <td>...</td>\n",
              "      <td>...</td>\n",
              "    </tr>\n",
              "    <tr>\n",
              "      <th>566</th>\n",
              "      <td>39.42</td>\n",
              "      <td>8.182</td>\n",
              "      <td>90.0</td>\n",
              "      <td>12.0</td>\n",
              "      <td>19.200</td>\n",
              "      <td>3.177</td>\n",
              "      <td>0.36</td>\n",
              "      <td>0.550</td>\n",
              "      <td>178.75</td>\n",
              "      <td>54.0</td>\n",
              "      <td>135.0</td>\n",
              "    </tr>\n",
              "    <tr>\n",
              "      <th>567</th>\n",
              "      <td>48.42</td>\n",
              "      <td>8.380</td>\n",
              "      <td>28.0</td>\n",
              "      <td>31.5</td>\n",
              "      <td>5.800</td>\n",
              "      <td>3.100</td>\n",
              "      <td>0.46</td>\n",
              "      <td>0.460</td>\n",
              "      <td>185.00</td>\n",
              "      <td>36.0</td>\n",
              "      <td>43.0</td>\n",
              "    </tr>\n",
              "    <tr>\n",
              "      <th>568</th>\n",
              "      <td>62.40</td>\n",
              "      <td>8.400</td>\n",
              "      <td>90.0</td>\n",
              "      <td>40.0</td>\n",
              "      <td>6.100</td>\n",
              "      <td>2.920</td>\n",
              "      <td>0.50</td>\n",
              "      <td>0.830</td>\n",
              "      <td>102.00</td>\n",
              "      <td>33.0</td>\n",
              "      <td>10.0</td>\n",
              "    </tr>\n",
              "    <tr>\n",
              "      <th>569</th>\n",
              "      <td>62.40</td>\n",
              "      <td>8.400</td>\n",
              "      <td>90.0</td>\n",
              "      <td>40.0</td>\n",
              "      <td>13.000</td>\n",
              "      <td>2.680</td>\n",
              "      <td>0.50</td>\n",
              "      <td>0.830</td>\n",
              "      <td>89.00</td>\n",
              "      <td>36.0</td>\n",
              "      <td>10.0</td>\n",
              "    </tr>\n",
              "    <tr>\n",
              "      <th>570</th>\n",
              "      <td>52.90</td>\n",
              "      <td>8.400</td>\n",
              "      <td>28.0</td>\n",
              "      <td>80.0</td>\n",
              "      <td>15.000</td>\n",
              "      <td>2.800</td>\n",
              "      <td>0.50</td>\n",
              "      <td>0.670</td>\n",
              "      <td>115.00</td>\n",
              "      <td>30.0</td>\n",
              "      <td>40.0</td>\n",
              "    </tr>\n",
              "  </tbody>\n",
              "</table>\n",
              "<p>571 rows × 11 columns</p>\n",
              "</div>\n",
              "      <button class=\"colab-df-convert\" onclick=\"convertToInteractive('df-3f67e3c7-a258-4da4-8d76-8558629f58ab')\"\n",
              "              title=\"Convert this dataframe to an interactive table.\"\n",
              "              style=\"display:none;\">\n",
              "        \n",
              "  <svg xmlns=\"http://www.w3.org/2000/svg\" height=\"24px\"viewBox=\"0 0 24 24\"\n",
              "       width=\"24px\">\n",
              "    <path d=\"M0 0h24v24H0V0z\" fill=\"none\"/>\n",
              "    <path d=\"M18.56 5.44l.94 2.06.94-2.06 2.06-.94-2.06-.94-.94-2.06-.94 2.06-2.06.94zm-11 1L8.5 8.5l.94-2.06 2.06-.94-2.06-.94L8.5 2.5l-.94 2.06-2.06.94zm10 10l.94 2.06.94-2.06 2.06-.94-2.06-.94-.94-2.06-.94 2.06-2.06.94z\"/><path d=\"M17.41 7.96l-1.37-1.37c-.4-.4-.92-.59-1.43-.59-.52 0-1.04.2-1.43.59L10.3 9.45l-7.72 7.72c-.78.78-.78 2.05 0 2.83L4 21.41c.39.39.9.59 1.41.59.51 0 1.02-.2 1.41-.59l7.78-7.78 2.81-2.81c.8-.78.8-2.07 0-2.86zM5.41 20L4 18.59l7.72-7.72 1.47 1.35L5.41 20z\"/>\n",
              "  </svg>\n",
              "      </button>\n",
              "      \n",
              "  <style>\n",
              "    .colab-df-container {\n",
              "      display:flex;\n",
              "      flex-wrap:wrap;\n",
              "      gap: 12px;\n",
              "    }\n",
              "\n",
              "    .colab-df-convert {\n",
              "      background-color: #E8F0FE;\n",
              "      border: none;\n",
              "      border-radius: 50%;\n",
              "      cursor: pointer;\n",
              "      display: none;\n",
              "      fill: #1967D2;\n",
              "      height: 32px;\n",
              "      padding: 0 0 0 0;\n",
              "      width: 32px;\n",
              "    }\n",
              "\n",
              "    .colab-df-convert:hover {\n",
              "      background-color: #E2EBFA;\n",
              "      box-shadow: 0px 1px 2px rgba(60, 64, 67, 0.3), 0px 1px 3px 1px rgba(60, 64, 67, 0.15);\n",
              "      fill: #174EA6;\n",
              "    }\n",
              "\n",
              "    [theme=dark] .colab-df-convert {\n",
              "      background-color: #3B4455;\n",
              "      fill: #D2E3FC;\n",
              "    }\n",
              "\n",
              "    [theme=dark] .colab-df-convert:hover {\n",
              "      background-color: #434B5C;\n",
              "      box-shadow: 0px 1px 3px 1px rgba(0, 0, 0, 0.15);\n",
              "      filter: drop-shadow(0px 1px 2px rgba(0, 0, 0, 0.3));\n",
              "      fill: #FFFFFF;\n",
              "    }\n",
              "  </style>\n",
              "\n",
              "      <script>\n",
              "        const buttonEl =\n",
              "          document.querySelector('#df-3f67e3c7-a258-4da4-8d76-8558629f58ab button.colab-df-convert');\n",
              "        buttonEl.style.display =\n",
              "          google.colab.kernel.accessAllowed ? 'block' : 'none';\n",
              "\n",
              "        async function convertToInteractive(key) {\n",
              "          const element = document.querySelector('#df-3f67e3c7-a258-4da4-8d76-8558629f58ab');\n",
              "          const dataTable =\n",
              "            await google.colab.kernel.invokeFunction('convertToInteractive',\n",
              "                                                     [key], {});\n",
              "          if (!dataTable) return;\n",
              "\n",
              "          const docLinkHtml = 'Like what you see? Visit the ' +\n",
              "            '<a target=\"_blank\" href=https://colab.research.google.com/notebooks/data_table.ipynb>data table notebook</a>'\n",
              "            + ' to learn more about interactive tables.';\n",
              "          element.innerHTML = '';\n",
              "          dataTable['output_type'] = 'display_data';\n",
              "          await google.colab.output.renderOutput(dataTable, element);\n",
              "          const docLink = document.createElement('div');\n",
              "          docLink.innerHTML = docLinkHtml;\n",
              "          element.appendChild(docLink);\n",
              "        }\n",
              "      </script>\n",
              "    </div>\n",
              "  </div>\n",
              "  "
            ]
          },
          "metadata": {},
          "execution_count": 134
        }
      ]
    },
    {
      "cell_type": "code",
      "source": [
        "from sklearn.model_selection import cross_val_score\n",
        "\n",
        "# Define the Random Forest model\n",
        "rf_model = RandomForestRegressor(random_state=0)\n",
        "\n",
        "# Define the range of values to try for the number of estimators\n",
        "estimator_range = range(50,301,50)\n",
        "\n",
        "# Calculate the cross-validation scores for each value of the number of estimators\n",
        "cv_scores = []\n",
        "for num_estimators in estimator_range:\n",
        "    rf_model.set_params(n_estimators=num_estimators)\n",
        "    scores = -1 * cross_val_score(rf_model, dataset_imputed, y_train_compressive, cv=5, scoring='neg_mean_squared_error')\n",
        "    cv_scores.append(scores.mean())\n",
        "\n",
        "# Find the number of estimators with the lowest mean squared error\n",
        "optimal_num_estimators = estimator_range[cv_scores.index(min(cv_scores))]\n",
        "print('optimal_num_estimators= ', optimal_num_estimators)\n",
        "\n",
        "\n",
        "# Train the final Random Forest model with the optimal number of estimators\n",
        "rf_model.set_params(n_estimators=optimal_num_estimators)\n",
        "rf_model.fit(dataset_imputed, y_train_compressive)"
      ],
      "metadata": {
        "colab": {
          "base_uri": "https://localhost:8080/",
          "height": 93
        },
        "id": "1ReI2EcH_f3d",
        "outputId": "5e61cb39-dab7-422a-fab1-c76f11ca37df"
      },
      "execution_count": null,
      "outputs": [
        {
          "output_type": "stream",
          "name": "stdout",
          "text": [
            "optimal_num_estimators=  100\n"
          ]
        },
        {
          "output_type": "execute_result",
          "data": {
            "text/plain": [
              "RandomForestRegressor(random_state=0)"
            ],
            "text/html": [
              "<style>#sk-container-id-4 {color: black;background-color: white;}#sk-container-id-4 pre{padding: 0;}#sk-container-id-4 div.sk-toggleable {background-color: white;}#sk-container-id-4 label.sk-toggleable__label {cursor: pointer;display: block;width: 100%;margin-bottom: 0;padding: 0.3em;box-sizing: border-box;text-align: center;}#sk-container-id-4 label.sk-toggleable__label-arrow:before {content: \"▸\";float: left;margin-right: 0.25em;color: #696969;}#sk-container-id-4 label.sk-toggleable__label-arrow:hover:before {color: black;}#sk-container-id-4 div.sk-estimator:hover label.sk-toggleable__label-arrow:before {color: black;}#sk-container-id-4 div.sk-toggleable__content {max-height: 0;max-width: 0;overflow: hidden;text-align: left;background-color: #f0f8ff;}#sk-container-id-4 div.sk-toggleable__content pre {margin: 0.2em;color: black;border-radius: 0.25em;background-color: #f0f8ff;}#sk-container-id-4 input.sk-toggleable__control:checked~div.sk-toggleable__content {max-height: 200px;max-width: 100%;overflow: auto;}#sk-container-id-4 input.sk-toggleable__control:checked~label.sk-toggleable__label-arrow:before {content: \"▾\";}#sk-container-id-4 div.sk-estimator input.sk-toggleable__control:checked~label.sk-toggleable__label {background-color: #d4ebff;}#sk-container-id-4 div.sk-label input.sk-toggleable__control:checked~label.sk-toggleable__label {background-color: #d4ebff;}#sk-container-id-4 input.sk-hidden--visually {border: 0;clip: rect(1px 1px 1px 1px);clip: rect(1px, 1px, 1px, 1px);height: 1px;margin: -1px;overflow: hidden;padding: 0;position: absolute;width: 1px;}#sk-container-id-4 div.sk-estimator {font-family: monospace;background-color: #f0f8ff;border: 1px dotted black;border-radius: 0.25em;box-sizing: border-box;margin-bottom: 0.5em;}#sk-container-id-4 div.sk-estimator:hover {background-color: #d4ebff;}#sk-container-id-4 div.sk-parallel-item::after {content: \"\";width: 100%;border-bottom: 1px solid gray;flex-grow: 1;}#sk-container-id-4 div.sk-label:hover label.sk-toggleable__label {background-color: #d4ebff;}#sk-container-id-4 div.sk-serial::before {content: \"\";position: absolute;border-left: 1px solid gray;box-sizing: border-box;top: 0;bottom: 0;left: 50%;z-index: 0;}#sk-container-id-4 div.sk-serial {display: flex;flex-direction: column;align-items: center;background-color: white;padding-right: 0.2em;padding-left: 0.2em;position: relative;}#sk-container-id-4 div.sk-item {position: relative;z-index: 1;}#sk-container-id-4 div.sk-parallel {display: flex;align-items: stretch;justify-content: center;background-color: white;position: relative;}#sk-container-id-4 div.sk-item::before, #sk-container-id-4 div.sk-parallel-item::before {content: \"\";position: absolute;border-left: 1px solid gray;box-sizing: border-box;top: 0;bottom: 0;left: 50%;z-index: -1;}#sk-container-id-4 div.sk-parallel-item {display: flex;flex-direction: column;z-index: 1;position: relative;background-color: white;}#sk-container-id-4 div.sk-parallel-item:first-child::after {align-self: flex-end;width: 50%;}#sk-container-id-4 div.sk-parallel-item:last-child::after {align-self: flex-start;width: 50%;}#sk-container-id-4 div.sk-parallel-item:only-child::after {width: 0;}#sk-container-id-4 div.sk-dashed-wrapped {border: 1px dashed gray;margin: 0 0.4em 0.5em 0.4em;box-sizing: border-box;padding-bottom: 0.4em;background-color: white;}#sk-container-id-4 div.sk-label label {font-family: monospace;font-weight: bold;display: inline-block;line-height: 1.2em;}#sk-container-id-4 div.sk-label-container {text-align: center;}#sk-container-id-4 div.sk-container {/* jupyter's `normalize.less` sets `[hidden] { display: none; }` but bootstrap.min.css set `[hidden] { display: none !important; }` so we also need the `!important` here to be able to override the default hidden behavior on the sphinx rendered scikit-learn.org. See: https://github.com/scikit-learn/scikit-learn/issues/21755 */display: inline-block !important;position: relative;}#sk-container-id-4 div.sk-text-repr-fallback {display: none;}</style><div id=\"sk-container-id-4\" class=\"sk-top-container\"><div class=\"sk-text-repr-fallback\"><pre>RandomForestRegressor(random_state=0)</pre><b>In a Jupyter environment, please rerun this cell to show the HTML representation or trust the notebook. <br />On GitHub, the HTML representation is unable to render, please try loading this page with nbviewer.org.</b></div><div class=\"sk-container\" hidden><div class=\"sk-item\"><div class=\"sk-estimator sk-toggleable\"><input class=\"sk-toggleable__control sk-hidden--visually\" id=\"sk-estimator-id-4\" type=\"checkbox\" checked><label for=\"sk-estimator-id-4\" class=\"sk-toggleable__label sk-toggleable__label-arrow\">RandomForestRegressor</label><div class=\"sk-toggleable__content\"><pre>RandomForestRegressor(random_state=0)</pre></div></div></div></div></div>"
            ]
          },
          "metadata": {},
          "execution_count": 136
        }
      ]
    },
    {
      "cell_type": "code",
      "source": [
        "# Make predictions on the validation set\n",
        "y_pred_comp_rf = rf_model.predict(t_dataset_imputed)\n",
        "\n",
        "print(len(y_valid_compressive))\n",
        "print(len(y_pred_comp_rf))"
      ],
      "metadata": {
        "colab": {
          "base_uri": "https://localhost:8080/"
        },
        "id": "XFN-AfEbGdF_",
        "outputId": "bfe35f7f-edf6-4bc4-c75c-c618a6ece33f"
      },
      "execution_count": null,
      "outputs": [
        {
          "output_type": "stream",
          "name": "stdout",
          "text": [
            "143\n",
            "143\n"
          ]
        }
      ]
    },
    {
      "cell_type": "code",
      "source": [
        "# # Make predictions on the validation set\n",
        "# y_pred = rf_model.predict(t_dataset_imputed)\n",
        "\n",
        "# Calculate the RMSE on the validation set\n",
        "rmse = mean_squared_error(y_valid_compressive, y_pred_comp_rf, squared=False)\n",
        "\n",
        "print(f\"Validation RMSE: {rmse}\")"
      ],
      "metadata": {
        "colab": {
          "base_uri": "https://localhost:8080/"
        },
        "id": "uRicwq8PBMfS",
        "outputId": "a523475d-6bf6-46a4-d99a-1ce070eaab4e"
      },
      "execution_count": null,
      "outputs": [
        {
          "output_type": "stream",
          "name": "stdout",
          "text": [
            "Validation RMSE: 3.8940428620566587\n"
          ]
        }
      ]
    },
    {
      "cell_type": "code",
      "source": [
        "val_comp_accuracy_rf = r2_score(y_valid_compressive, y_pred_comp_rf)\n",
        "print(\"Validation comp Accuracy:\", val_comp_accuracy_rf)"
      ],
      "metadata": {
        "colab": {
          "base_uri": "https://localhost:8080/"
        },
        "id": "SH-Ke11RHZQ4",
        "outputId": "8f1be13f-87f9-4d54-89d1-38d2d8f0418e"
      },
      "execution_count": null,
      "outputs": [
        {
          "output_type": "stream",
          "name": "stdout",
          "text": [
            "Validation comp Accuracy: 0.9692925740226507\n"
          ]
        }
      ]
    },
    {
      "cell_type": "code",
      "source": [
        "# Calculate the cross-validation scores for each value of the number of estimators\n",
        "cv_scores = []\n",
        "for num_estimators in estimator_range:\n",
        "    rf_model.set_params(n_estimators=num_estimators)\n",
        "    scores = -1 * cross_val_score(rf_model, dataset_imputed, y_train_tensile, cv=5, scoring='neg_mean_squared_error')\n",
        "    cv_scores.append(scores.mean())\n",
        "\n",
        "# Find the number of estimators with the lowest mean squared error\n",
        "optimal_num_estimators = estimator_range[cv_scores.index(min(cv_scores))]\n",
        "print('optimal_num_estimators= ', optimal_num_estimators)\n",
        "\n",
        "\n",
        "# Train the final Random Forest model with the optimal number of estimators\n",
        "rf_model.set_params(n_estimators=optimal_num_estimators)\n",
        "rf_model.fit(dataset_imputed, y_train_tensile)"
      ],
      "metadata": {
        "colab": {
          "base_uri": "https://localhost:8080/",
          "height": 93
        },
        "id": "SgglSaSoHt67",
        "outputId": "5d5ba255-7c44-4c09-f3c5-e668d16e9dbb"
      },
      "execution_count": null,
      "outputs": [
        {
          "output_type": "stream",
          "name": "stdout",
          "text": [
            "optimal_num_estimators=  300\n"
          ]
        },
        {
          "output_type": "execute_result",
          "data": {
            "text/plain": [
              "RandomForestRegressor(n_estimators=300, random_state=0)"
            ],
            "text/html": [
              "<style>#sk-container-id-5 {color: black;background-color: white;}#sk-container-id-5 pre{padding: 0;}#sk-container-id-5 div.sk-toggleable {background-color: white;}#sk-container-id-5 label.sk-toggleable__label {cursor: pointer;display: block;width: 100%;margin-bottom: 0;padding: 0.3em;box-sizing: border-box;text-align: center;}#sk-container-id-5 label.sk-toggleable__label-arrow:before {content: \"▸\";float: left;margin-right: 0.25em;color: #696969;}#sk-container-id-5 label.sk-toggleable__label-arrow:hover:before {color: black;}#sk-container-id-5 div.sk-estimator:hover label.sk-toggleable__label-arrow:before {color: black;}#sk-container-id-5 div.sk-toggleable__content {max-height: 0;max-width: 0;overflow: hidden;text-align: left;background-color: #f0f8ff;}#sk-container-id-5 div.sk-toggleable__content pre {margin: 0.2em;color: black;border-radius: 0.25em;background-color: #f0f8ff;}#sk-container-id-5 input.sk-toggleable__control:checked~div.sk-toggleable__content {max-height: 200px;max-width: 100%;overflow: auto;}#sk-container-id-5 input.sk-toggleable__control:checked~label.sk-toggleable__label-arrow:before {content: \"▾\";}#sk-container-id-5 div.sk-estimator input.sk-toggleable__control:checked~label.sk-toggleable__label {background-color: #d4ebff;}#sk-container-id-5 div.sk-label input.sk-toggleable__control:checked~label.sk-toggleable__label {background-color: #d4ebff;}#sk-container-id-5 input.sk-hidden--visually {border: 0;clip: rect(1px 1px 1px 1px);clip: rect(1px, 1px, 1px, 1px);height: 1px;margin: -1px;overflow: hidden;padding: 0;position: absolute;width: 1px;}#sk-container-id-5 div.sk-estimator {font-family: monospace;background-color: #f0f8ff;border: 1px dotted black;border-radius: 0.25em;box-sizing: border-box;margin-bottom: 0.5em;}#sk-container-id-5 div.sk-estimator:hover {background-color: #d4ebff;}#sk-container-id-5 div.sk-parallel-item::after {content: \"\";width: 100%;border-bottom: 1px solid gray;flex-grow: 1;}#sk-container-id-5 div.sk-label:hover label.sk-toggleable__label {background-color: #d4ebff;}#sk-container-id-5 div.sk-serial::before {content: \"\";position: absolute;border-left: 1px solid gray;box-sizing: border-box;top: 0;bottom: 0;left: 50%;z-index: 0;}#sk-container-id-5 div.sk-serial {display: flex;flex-direction: column;align-items: center;background-color: white;padding-right: 0.2em;padding-left: 0.2em;position: relative;}#sk-container-id-5 div.sk-item {position: relative;z-index: 1;}#sk-container-id-5 div.sk-parallel {display: flex;align-items: stretch;justify-content: center;background-color: white;position: relative;}#sk-container-id-5 div.sk-item::before, #sk-container-id-5 div.sk-parallel-item::before {content: \"\";position: absolute;border-left: 1px solid gray;box-sizing: border-box;top: 0;bottom: 0;left: 50%;z-index: -1;}#sk-container-id-5 div.sk-parallel-item {display: flex;flex-direction: column;z-index: 1;position: relative;background-color: white;}#sk-container-id-5 div.sk-parallel-item:first-child::after {align-self: flex-end;width: 50%;}#sk-container-id-5 div.sk-parallel-item:last-child::after {align-self: flex-start;width: 50%;}#sk-container-id-5 div.sk-parallel-item:only-child::after {width: 0;}#sk-container-id-5 div.sk-dashed-wrapped {border: 1px dashed gray;margin: 0 0.4em 0.5em 0.4em;box-sizing: border-box;padding-bottom: 0.4em;background-color: white;}#sk-container-id-5 div.sk-label label {font-family: monospace;font-weight: bold;display: inline-block;line-height: 1.2em;}#sk-container-id-5 div.sk-label-container {text-align: center;}#sk-container-id-5 div.sk-container {/* jupyter's `normalize.less` sets `[hidden] { display: none; }` but bootstrap.min.css set `[hidden] { display: none !important; }` so we also need the `!important` here to be able to override the default hidden behavior on the sphinx rendered scikit-learn.org. See: https://github.com/scikit-learn/scikit-learn/issues/21755 */display: inline-block !important;position: relative;}#sk-container-id-5 div.sk-text-repr-fallback {display: none;}</style><div id=\"sk-container-id-5\" class=\"sk-top-container\"><div class=\"sk-text-repr-fallback\"><pre>RandomForestRegressor(n_estimators=300, random_state=0)</pre><b>In a Jupyter environment, please rerun this cell to show the HTML representation or trust the notebook. <br />On GitHub, the HTML representation is unable to render, please try loading this page with nbviewer.org.</b></div><div class=\"sk-container\" hidden><div class=\"sk-item\"><div class=\"sk-estimator sk-toggleable\"><input class=\"sk-toggleable__control sk-hidden--visually\" id=\"sk-estimator-id-5\" type=\"checkbox\" checked><label for=\"sk-estimator-id-5\" class=\"sk-toggleable__label sk-toggleable__label-arrow\">RandomForestRegressor</label><div class=\"sk-toggleable__content\"><pre>RandomForestRegressor(n_estimators=300, random_state=0)</pre></div></div></div></div></div>"
            ]
          },
          "metadata": {},
          "execution_count": 140
        }
      ]
    },
    {
      "cell_type": "code",
      "source": [
        "# Make predictions on the validation set\n",
        "y_pred_tens_rf = rf_model.predict(t_dataset_imputed)\n",
        "\n",
        "print(len(y_valid_tensile))\n",
        "print(len(y_pred_tens_rf))"
      ],
      "metadata": {
        "colab": {
          "base_uri": "https://localhost:8080/"
        },
        "id": "Vz-7bqp4I2Tk",
        "outputId": "8128745c-a478-46f7-b117-3de2199bc566"
      },
      "execution_count": null,
      "outputs": [
        {
          "output_type": "stream",
          "name": "stdout",
          "text": [
            "143\n",
            "143\n"
          ]
        }
      ]
    },
    {
      "cell_type": "code",
      "source": [
        "val_tens_accuracy_rf = r2_score(y_valid_tensile, y_pred_tens_rf)\n",
        "print(\"Validation tensile Accuracy:\", val_tens_accuracy_rf)"
      ],
      "metadata": {
        "colab": {
          "base_uri": "https://localhost:8080/"
        },
        "id": "jq1bYBhSJca8",
        "outputId": "338809cd-663d-421f-8a57-44b55a7866e2"
      },
      "execution_count": null,
      "outputs": [
        {
          "output_type": "stream",
          "name": "stdout",
          "text": [
            "Validation tensile Accuracy: 0.9340840036382903\n"
          ]
        }
      ]
    },
    {
      "cell_type": "code",
      "source": [
        "from keras.models import Sequential\n",
        "from keras.layers import Dense\n",
        "from sklearn.metrics import accuracy_score\n",
        "\n",
        "# Define the model architecture\n",
        "model_nn = Sequential()\n",
        "model_nn.add(Dense(64, input_dim=11, activation='relu'))\n",
        "model_nn.add(Dense(128, activation='sigmoid'))\n",
        "model_nn.add(Dense(64, activation='relu'))\n",
        "model_nn.add(Dense(1, activation='linear'))\n",
        "\n",
        "\n",
        "# Compile the model\n",
        "model_nn.compile(loss='mean_squared_error', optimizer='adam')\n",
        "\n",
        "# Train the model\n",
        "model_nn.fit(dataset_imputed, y_train_compressive, epochs=100, batch_size=32, verbose=0)\n",
        "\n",
        "#predict the value for validation dataset\n",
        "y_pred_comp_nn = model_nn.predict(t_dataset_imputed)\n",
        "\n",
        "\n",
        "# calculate the r2 score\n",
        "r2_comp_nn = r2_score(y_valid_compressive, y_pred_comp_nn)\n",
        "\n",
        "print(\"validation_accuracy_comp_nn\", r2_comp_nn)\n",
        "\n",
        "\n",
        "\n"
      ],
      "metadata": {
        "colab": {
          "base_uri": "https://localhost:8080/"
        },
        "id": "Y6Na1WRQeRPA",
        "outputId": "8ed13a81-5d7c-4058-b0c9-e36314d927e3"
      },
      "execution_count": null,
      "outputs": [
        {
          "output_type": "stream",
          "name": "stdout",
          "text": [
            "5/5 [==============================] - 0s 2ms/step\n",
            "validation_accuracy_comp_nn 0.872909319164508\n"
          ]
        }
      ]
    },
    {
      "cell_type": "code",
      "source": [],
      "metadata": {
        "id": "-acwzX-1gZEL"
      },
      "execution_count": null,
      "outputs": []
    },
    {
      "cell_type": "code",
      "source": [
        "from keras.models import Sequential\n",
        "from keras.layers import Dense\n",
        "from sklearn.metrics import accuracy_score\n",
        "\n",
        "# Define the model architecture\n",
        "model_nn = Sequential()\n",
        "model_nn.add(Dense(64, input_dim=11, activation='relu'))\n",
        "model_nn.add(Dense(128, activation='sigmoid'))\n",
        "model_nn.add(Dense(32, activation='relu'))\n",
        "model_nn.add(Dense(1, activation='linear'))\n",
        "\n",
        "\n",
        "# Compile the model\n",
        "model_nn.compile(loss='mean_squared_error', optimizer='adam')\n",
        "\n",
        "# Train the model\n",
        "model_nn.fit(dataset_imputed, y_train_tensile, epochs=100, batch_size=32, verbose=0)\n",
        "\n",
        "#predict the value for validation dataset\n",
        "y_pred_tens_nn = model_nn.predict(t_dataset_imputed)\n",
        "\n",
        "\n",
        "# calculate the r2 score\n",
        "r2_tens_nn = r2_score(y_valid_tensile, y_pred_tens_nn)\n",
        "\n",
        "print(\"validation_accuracy_tens_nn\", r2_tens_nn)\n",
        "\n",
        "\n",
        "\n"
      ],
      "metadata": {
        "colab": {
          "base_uri": "https://localhost:8080/"
        },
        "outputId": "1a238904-d15c-4994-eb56-1111cfa3fe91",
        "id": "IKskqASHgZrE"
      },
      "execution_count": null,
      "outputs": [
        {
          "output_type": "stream",
          "name": "stdout",
          "text": [
            "5/5 [==============================] - 0s 4ms/step\n",
            "validation_accuracy_tens_nn 0.8102429341392549\n"
          ]
        }
      ]
    },
    {
      "cell_type": "code",
      "source": [
        "from sklearn.linear_model import LinearRegression\n",
        "\n",
        "\n",
        "# Make predictions on the validation set using base models\n",
        "\n",
        "\n",
        "# Concatenate the base model predictions\n",
        "X_meta = np.column_stack(( y_pred_comp_rf, y_pred_comp_xg, y_pred_comp_nn))\n",
        "\n",
        "# Train a meta model on the base model predictions\n",
        "meta_model = LinearRegression()\n",
        "meta_model.fit(X_meta, y_valid_compressive)\n",
        "\n",
        "# Make predictions on the test set using the meta model\n",
        "y_pred_meta = meta_model.predict(np.column_stack(( rf_model.predict(t_dataset_imputed), model_comp_xg.predict(t_dataset_imputed), model_nn.predict(t_dataset_imputed))))\n",
        "\n",
        "# Evaluate the meta model\n",
        "meta_accuracy = r2_score(y_valid_compressive, y_pred_meta)\n",
        "print(\"R^2 score of the meta-model:\", meta_accuracy)\n"
      ],
      "metadata": {
        "colab": {
          "base_uri": "https://localhost:8080/"
        },
        "id": "WFoGi7nHiIm9",
        "outputId": "c366a8ab-0e78-48ec-f3c0-43b1257a7a12"
      },
      "execution_count": null,
      "outputs": [
        {
          "output_type": "stream",
          "name": "stdout",
          "text": [
            "5/5 [==============================] - 0s 3ms/step\n",
            "R^2 score of the meta-model: 0.959732771447315\n"
          ]
        }
      ]
    },
    {
      "cell_type": "code",
      "source": [],
      "metadata": {
        "id": "hgmOdpcesh6H"
      },
      "execution_count": null,
      "outputs": []
    },
    {
      "cell_type": "code",
      "source": [
        "from sklearn.linear_model import LinearRegression\n",
        "\n",
        "# Make predictions on the validation set using base models\n",
        "y_pred_tens_rf = rf_model.predict(t_dataset_imputed)\n",
        "y_pred_tensile_xg = model_tensile_xg.predict(t_dataset_imputed)\n",
        "y_pred_tens_nn = model_nn.predict(t_dataset_imputed)\n",
        "\n",
        "# Concatenate the base model predictions\n",
        "X_meta_tens = np.column_stack((y_pred_tens_rf, y_pred_tensile_xg, y_pred_tens_nn))\n",
        "\n",
        "# Train a meta model on the base model predictions\n",
        "meta_model_tens = LinearRegression()\n",
        "meta_model_tens.fit(X_meta_tens, y_valid_tensile)\n",
        "\n",
        "# Make predictions on the test set using the meta model\n",
        "y_pred_meta_tens = meta_model_tens.predict(np.column_stack((rf_model.predict(t_dataset_imputed), model_tensile_xg.predict(t_dataset_imputed), model_nn.predict(t_dataset_imputed))))\n",
        "\n",
        "# Evaluate the meta model\n",
        "meta_accuracy_tens = r2_score(y_valid_tensile, y_pred_meta_tens)\n",
        "print(\"R^2 score of the meta-model for tensile strength:\", meta_accuracy_tens)\n"
      ],
      "metadata": {
        "colab": {
          "base_uri": "https://localhost:8080/"
        },
        "id": "-Ke-UxXiwR5M",
        "outputId": "20169fb2-a117-4b0c-c1a5-ffd91ce3b2d0"
      },
      "execution_count": null,
      "outputs": [
        {
          "output_type": "stream",
          "name": "stdout",
          "text": [
            "5/5 [==============================] - 0s 2ms/step\n",
            "5/5 [==============================] - 0s 3ms/step\n",
            "R^2 score of the meta-model for tensile strength: 0.9462659385995568\n"
          ]
        }
      ]
    }
  ]
}